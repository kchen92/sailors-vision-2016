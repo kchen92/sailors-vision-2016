{
 "cells": [
  {
   "cell_type": "code",
   "execution_count": null,
   "metadata": {
    "collapsed": false
   },
   "outputs": [],
   "source": [
    "import os\n",
    "import sys\n",
    "import glob\n",
    "import numpy as np\n",
    "from skimage import io\n",
    "import matplotlib.pyplot as plt\n",
    "import sklearn.metrics as skm\n",
    "\n",
    "try:\n",
    "    del sys.modules['threshold_model']\n",
    "except:\n",
    "    pass\n",
    "try:\n",
    "    del sys.modules['eval_utils']\n",
    "except:\n",
    "    pass\n",
    "\n",
    "from threshold_model import ThresholdModel\n",
    "import eval_utils\n",
    "\n",
    "# set figure properties\n",
    "%matplotlib inline\n",
    "plt.rcParams['figure.figsize'] = (10, 10)\n",
    "plt.rcParams['image.interpolation'] = 'nearest'\n",
    "\n",
    "data_dir = '../../data/train/frames/rgb'"
   ]
  },
  {
   "cell_type": "code",
   "execution_count": null,
   "metadata": {
    "collapsed": false,
    "scrolled": false
   },
   "outputs": [],
   "source": [
    "# try plotting an image\n",
    "filename = '%s/rgb-146.jpg' %(data_dir)\n",
    "image = io.imread(filename)\n",
    "height, width, channels = image.shape\n",
    "print 'image has height %d, width %d, channels %d' %(height, width, channels)\n",
    "plt.imshow(image)"
   ]
  },
  {
   "cell_type": "code",
   "execution_count": null,
   "metadata": {
    "collapsed": false
   },
   "outputs": [],
   "source": [
    "# create a model\n",
    "model = ThresholdModel()\n",
    "# model.set_crop(cropx_start, cropx_end, cropy_start, cropy_end)\n",
    "n_cells_x, n_cells_y = (10, 10)\n",
    "model.set_n_cells(n_cells_y, n_cells_x)\n",
    "model.set_feature_extractor(model.get_full_image_feature)\n",
    "# model.set_feature_extractor(model.get_crop_feature)\n",
    "# model.set_feature_extractor(model.get_grid_feature)\n",
    "model.set_ref_feature(image)\n",
    "model.set_pixel_change_threshold(10000) # this threshold determines whether the pixel \"changed\"\n",
    "model.set_image_score_threshold(.05) # this threshold determines how many changed pixels should result in prediction=1\n"
   ]
  },
  {
   "cell_type": "code",
   "execution_count": null,
   "metadata": {
    "collapsed": false,
    "scrolled": true
   },
   "outputs": [],
   "source": [
    "# evaluate accuracy on a list of files\n",
    "num_files = len(glob.glob('../../data/train/frames/rgb/*.jpg'))\n",
    "filelist = []\n",
    "for file_idx in range(num_files):\n",
    "    filename = '../../data/train/frames/rgb/rgb-%d.jpg' %(file_idx)\n",
    "    filelist.append(filename)\n",
    "\n",
    "with open('../../data/train/labels.txt') as f:\n",
    "    labels = f.read().strip().split('\\n')\n",
    "labels = [int(x) for x in labels]\n",
    "labels.append(0)\n",
    "\n",
    "# for file_idx in range(num_files):\n",
    "#     filename = filelist[file_idx]\n",
    "#     filelabel = labels[file_idx]\n",
    "#     image_prediction, image_score = model.predict(filename)\n",
    "#     print '%s: label %d, prediction %d, image score %.3f' %(filename, filelabel, image_prediction, image_score)\n",
    "\n",
    "predictions, scores, accuracy, precision, recall, fscore = eval_utils.evaluate_accuracy(filelist, labels, model)\n",
    "#print 'change thresh: %.3f, score thresh: %.3f, acc: %.3f, prec: %.3f, rec: %.3f, fscore: %.3f' %(pixel_change_thresh, image_score_thresh, accuracy, precision, recall, fscore)\n",
    "\n",
    "pixel_change_range = np.arange(50, 120, 5)#np.arange(5000, 15000, 1000)\n",
    "image_score_range = np.arange(20, 120, 20)#np.arange(.01, .08, .01)\n",
    "for pixel_change_thresh in pixel_change_range:\n",
    "    for image_score_thresh in image_score_range:\n",
    "        \n",
    "        model.set_pixel_change_threshold(pixel_change_thresh) # this threshold determines whether the pixel \"changed\"\n",
    "        model.set_image_score_threshold(image_score_thresh) # this threshold determines how many changed pixels should result in prediction=1\n",
    "        predictions, scores, accuracy, precision, recall, fscore = eval_utils.evaluate_accuracy(filelist, labels, model)\n",
    "        \n",
    "        print 'change thresh: %.3f, score thresh: %.3f, acc: %.3f, prec: %.3f, rec: %.3f, fscore: %.3f' %(pixel_change_thresh, image_score_thresh, accuracy, precision, recall, fscore)\n",
    "\n",
    "\n",
    "\n",
    "#print 'accuracy: %.3f, mAP %.3f' %(accuracy, mAP)"
   ]
  }
 ],
 "metadata": {
  "kernelspec": {
   "display_name": "Python 2",
   "language": "python",
   "name": "python2"
  },
  "language_info": {
   "codemirror_mode": {
    "name": "ipython",
    "version": 2
   },
   "file_extension": ".py",
   "mimetype": "text/x-python",
   "name": "python",
   "nbconvert_exporter": "python",
   "pygments_lexer": "ipython2",
   "version": "2.7.6"
  }
 },
 "nbformat": 4,
 "nbformat_minor": 0
}
