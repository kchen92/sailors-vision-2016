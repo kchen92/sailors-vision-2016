{
 "cells": [
  {
   "cell_type": "code",
   "execution_count": null,
   "metadata": {
    "collapsed": false
   },
   "outputs": [],
   "source": [
    "import os\n",
    "import sys\n",
    "import glob\n",
    "import numpy as np\n",
    "from skimage import io\n",
    "import matplotlib.pyplot as plt\n",
    "import sklearn.metrics as skm\n",
    "\n",
    "try:\n",
    "    del sys.modules['linear_classifier']\n",
    "except:\n",
    "    pass\n",
    "try:\n",
    "    del sys.modules['eval_utils']\n",
    "except:\n",
    "    pass\n",
    "\n",
    "from linear_classifier import LinearClassifier\n",
    "import eval_utils\n",
    "\n",
    "# set figure properties\n",
    "%matplotlib inline\n",
    "plt.rcParams['figure.figsize'] = (10, 10)\n",
    "plt.rcParams['image.interpolation'] = 'nearest'\n",
    "\n",
    "data_dir = '../../data/train/frames/rgb'"
   ]
  },
  {
   "cell_type": "code",
   "execution_count": null,
   "metadata": {
    "collapsed": false
   },
   "outputs": [],
   "source": [
    "cropx_start = 200\n",
    "cropx_end = 230\n",
    "cropy_start = 60\n",
    "cropy_end = 85\n",
    "\n",
    "with open('../../data/train/labels.txt') as f:\n",
    "    train_labels = f.read().strip().split('\\n')\n",
    "train_labels = [int(x) for x in train_labels]\n",
    "train_labels.append(0)\n",
    "train_labels = np.asarray(train_labels)\n",
    "\n",
    "num_files = len(glob.glob('../../data/train/frames/rgb/*.jpg'))\n",
    "feat_size = (cropx_end-cropx_start)*(cropy_end-cropy_start)*3\n",
    "train_features = np.zeros((feat_size,num_files))\n",
    "for file_idx in range(num_files):\n",
    "    image_file = '../../data/train/frames/rgb/rgb-%d.jpg' %(file_idx)\n",
    "    image_mat = io.imread(image_file)\n",
    "    image_mat = image_mat[cropx_start:cropx_end, cropy_start:cropy_end, :].astype(float)\n",
    "    train_features[:,file_idx] = image_mat.reshape(1,feat_size)\n",
    "print train_features.shape"
   ]
  },
  {
   "cell_type": "code",
   "execution_count": null,
   "metadata": {
    "collapsed": false
   },
   "outputs": [],
   "source": [
    "# create a model\n",
    "model = LinearClassifier()\n",
    "feature_scale = 0.0001\n",
    "step_size = 0.001\n",
    "num_iterations = 1000\n",
    "model.train(train_features, train_labels, feature_scale, step_size, num_iterations)\n",
    "predictions, scores, accuracy, precision, recall, fscore = eval_utils.evaluate_accuracy(train_features, train_labels, model)\n",
    "print 'acc: %.3f, prec: %.3f, rec: %.3f, fscore: %.3f' %(accuracy, precision, recall, fscore)"
   ]
  }
 ],
 "metadata": {
  "kernelspec": {
   "display_name": "Python 2",
   "language": "python",
   "name": "python2"
  },
  "language_info": {
   "codemirror_mode": {
    "name": "ipython",
    "version": 2
   },
   "file_extension": ".py",
   "mimetype": "text/x-python",
   "name": "python",
   "nbconvert_exporter": "python",
   "pygments_lexer": "ipython2",
   "version": "2.7.6"
  }
 },
 "nbformat": 4,
 "nbformat_minor": 0
}
