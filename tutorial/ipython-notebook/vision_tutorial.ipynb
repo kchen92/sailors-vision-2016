{
 "cells": [
  {
   "cell_type": "markdown",
   "metadata": {},
   "source": [
    "# Computer Vision with Python\n",
    "\n",
    "References:\n",
    "http://cs231n.github.io/python-numpy-tutorial/"
   ]
  },
  {
   "cell_type": "code",
   "execution_count": null,
   "metadata": {
    "collapsed": true
   },
   "outputs": [],
   "source": [
    "%matplotlib inline\n",
    "\n",
    "import numpy as np\n",
    "import matplotlib.pyplot as plt\n",
    "from scipy.misc import imread, imsave, imresize"
   ]
  },
  {
   "cell_type": "code",
   "execution_count": null,
   "metadata": {
    "collapsed": false
   },
   "outputs": [],
   "source": [
    "img = imread('rgb-9.jpg')\n",
    "H, W, C = img.shape\n",
    "\n",
    "print 'datatype:', img.dtype\n",
    "print 'shape:', img.shape\n",
    "print 'max:', np.amax(img)\n",
    "print 'min:', np.amin(img)\n",
    "\n",
    "plt.imshow(img)"
   ]
  },
  {
   "cell_type": "code",
   "execution_count": null,
   "metadata": {
    "collapsed": false
   },
   "outputs": [],
   "source": [
    "# get top half of image\n",
    "img_top = img[:(H/2), :, :]\n",
    "\n",
    "plt.imshow(img_top)"
   ]
  },
  {
   "cell_type": "code",
   "execution_count": null,
   "metadata": {
    "collapsed": true
   },
   "outputs": [],
   "source": [
    "# save image\n",
    "imsave('img_top.png', img_top)"
   ]
  },
  {
   "cell_type": "code",
   "execution_count": null,
   "metadata": {
    "collapsed": false
   },
   "outputs": [],
   "source": [
    "# load the saved image\n",
    "saved_img = imread('img_top.png')\n",
    "\n",
    "plt.imshow(saved_img)"
   ]
  },
  {
   "cell_type": "code",
   "execution_count": null,
   "metadata": {
    "collapsed": false
   },
   "outputs": [],
   "source": [
    "# red channel\n",
    "img_r = np.copy(img)\n",
    "img_r[:, :, 1:2] = 0\n",
    "print img_r.shape\n",
    "\n",
    "plt.figure()\n",
    "plt.imshow(img_r)\n",
    "plt.figure()\n",
    "plt.imshow(img)\n",
    "\n",
    "# what if we don't use np.copy?"
   ]
  }
 ],
 "metadata": {
  "kernelspec": {
   "display_name": "Python 2",
   "language": "python",
   "name": "python2"
  },
  "language_info": {
   "codemirror_mode": {
    "name": "ipython",
    "version": 2
   },
   "file_extension": ".py",
   "mimetype": "text/x-python",
   "name": "python",
   "nbconvert_exporter": "python",
   "pygments_lexer": "ipython2",
   "version": "2.7.6"
  }
 },
 "nbformat": 4,
 "nbformat_minor": 0
}
