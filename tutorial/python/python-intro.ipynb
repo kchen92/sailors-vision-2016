{
 "cells": [
  {
   "cell_type": "markdown",
   "metadata": {},
   "source": [
    "# Introduction to Python"
   ]
  },
  {
   "cell_type": "markdown",
   "metadata": {},
   "source": [
    "### Types you should know\n",
    "\n",
    "- Floats/doubles\n",
    "- Ints\n",
    "- Strings\n",
    "- Booleans\n",
    "\n",
    "Containers\n",
    "- Lists\n",
    "- Dictionaries\n",
    "- Sets\n",
    "- Tuples\n",
    "\n",
    "Functions"
   ]
  },
  {
   "cell_type": "code",
   "execution_count": null,
   "metadata": {
    "collapsed": false
   },
   "outputs": [],
   "source": [
    "an_int = 5\n",
    "print an_int\n",
    "print type(an_int)\n",
    "\n",
    "a_float = 3.14159\n",
    "print a_float\n",
    "print type(a_float)\n",
    "\n",
    "# casting\n",
    "another_float = float(5)\n",
    "print another_float\n",
    "print type(another_float)\n",
    "\n",
    "a_string = 'hello everybody' # sequence of characters\n",
    "\n",
    "a_list = [an_int, a_float, another_float]\n",
    "print a_list\n",
    "print type(a_list)\n",
    "\n",
    "# indexing (0-based)\n",
    "\n",
    "print a_list[0]\n",
    "print a_list[1]\n",
    "print a_list[2]\n",
    "\n",
    "print a_list[-1]\n",
    "print a_list[-2]\n",
    "print a_list[-3]\n",
    "\n",
    "print a_list[0:2]\n",
    "print a_list[0:3]\n",
    "print a_list[0:3:2]"
   ]
  },
  {
   "cell_type": "markdown",
   "metadata": {},
   "source": [
    "## Commands\n",
    "\n",
    "### Misc\n",
    "\n",
    "- print\n",
    "\n",
    "### Control\n",
    "\n",
    "- for\n",
    "- while\n",
    "- if, else\n",
    "\n",
    "### Operations\n",
    "\n",
    "- Add (+)\n",
    "- Subtract (-)\n",
    "- Multiply (*)\n",
    "- Divide (/)\n",
    "\n",
    "### Functions\n",
    "\n",
    "- range, xrange"
   ]
  },
  {
   "cell_type": "code",
   "execution_count": null,
   "metadata": {
    "collapsed": false
   },
   "outputs": [],
   "source": [
    "print 'hello' + ' ' + 'everyone!'\n",
    "print 'her favorite number is', 4, 'lol'\n",
    "print 'her favorite number is %d' % 4\n",
    "print ''\n",
    "\n",
    "print 'loop 1'\n",
    "for i in xrange(5):\n",
    "    print i\n",
    "\n",
    "print ''\n",
    "print 'loop 2'\n",
    "for i in xrange(10):\n",
    "    if i % 2 == 0:\n",
    "        print i"
   ]
  },
  {
   "cell_type": "code",
   "execution_count": null,
   "metadata": {
    "collapsed": false
   },
   "outputs": [],
   "source": [
    "# Exercise\n",
    "# Make a list of ints that goes from 1 to 5.\n",
    "# Print the list backwards without using any loops.\n",
    "\n",
    "a = range(5)\n",
    "print a[::-1]"
   ]
  }
 ],
 "metadata": {
  "kernelspec": {
   "display_name": "Python 2",
   "language": "python",
   "name": "python2"
  },
  "language_info": {
   "codemirror_mode": {
    "name": "ipython",
    "version": 2
   },
   "file_extension": ".py",
   "mimetype": "text/x-python",
   "name": "python",
   "nbconvert_exporter": "python",
   "pygments_lexer": "ipython2",
   "version": "2.7.6"
  }
 },
 "nbformat": 4,
 "nbformat_minor": 0
}
